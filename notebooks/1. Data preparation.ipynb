{
 "cells": [
  {
   "cell_type": "code",
   "execution_count": 4,
   "metadata": {
    "ExecuteTime": {
     "end_time": "2022-05-22T17:31:50.329032Z",
     "start_time": "2022-05-22T17:31:50.314033Z"
    }
   },
   "outputs": [],
   "source": [
    "import pandas as pd\n",
    "import numpy as np\n",
    "import datetime\n",
    "import os"
   ]
  },
  {
   "cell_type": "code",
   "execution_count": 2,
   "metadata": {
    "ExecuteTime": {
     "end_time": "2022-05-22T17:10:11.651023Z",
     "start_time": "2022-05-22T17:10:08.408680Z"
    }
   },
   "outputs": [],
   "source": [
    "raw_data = pd.read_csv('../data/raw/market_sales.csv',\n",
    "                     header=0, parse_dates= ['period'],\n",
    "                     names=['period', 'user_id', 'store_id', \n",
    "                            'item_id', 'license', 'type_by_nomenclature',\n",
    "                            'rating'],\n",
    "                     dtype={'user_id': 'str',\n",
    "                            'store_id': np.str,\n",
    "                            'item_id': np.str,\n",
    "                            'license': np.int8,\n",
    "                            'type_by_nomenclature': np.str,\n",
    "                            'rating': np.int32})"
   ]
  },
  {
   "cell_type": "code",
   "execution_count": 3,
   "metadata": {
    "ExecuteTime": {
     "end_time": "2022-05-22T17:10:11.699020Z",
     "start_time": "2022-05-22T17:10:11.653020Z"
    }
   },
   "outputs": [
    {
     "name": "stdout",
     "output_type": "stream",
     "text": [
      "<class 'pandas.core.frame.DataFrame'>\n",
      "RangeIndex: 2495719 entries, 0 to 2495718\n",
      "Data columns (total 7 columns):\n",
      " #   Column                Dtype         \n",
      "---  ------                -----         \n",
      " 0   period                datetime64[ns]\n",
      " 1   user_id               object        \n",
      " 2   store_id              object        \n",
      " 3   item_id               object        \n",
      " 4   license               int8          \n",
      " 5   type_by_nomenclature  object        \n",
      " 6   rating                int32         \n",
      "dtypes: datetime64[ns](1), int32(1), int8(1), object(4)\n",
      "memory usage: 69.0+ MB\n"
     ]
    }
   ],
   "source": [
    "raw_data.info()"
   ]
  },
  {
   "cell_type": "code",
   "execution_count": 4,
   "metadata": {
    "ExecuteTime": {
     "end_time": "2022-05-22T17:10:15.133023Z",
     "start_time": "2022-05-22T17:10:11.702020Z"
    }
   },
   "outputs": [],
   "source": [
    "# deleting spaces in string columns\n",
    "raw_data['user_id'] = raw_data['user_id'].str.strip()\n",
    "raw_data['store_id'] = raw_data['store_id'].str.strip()\n",
    "raw_data['item_id'] = raw_data['item_id'].str.strip()"
   ]
  },
  {
   "cell_type": "code",
   "execution_count": 5,
   "metadata": {
    "ExecuteTime": {
     "end_time": "2022-05-22T17:10:30.624873Z",
     "start_time": "2022-05-22T17:10:15.135019Z"
    }
   },
   "outputs": [],
   "source": [
    "stores = raw_data.groupby(['store_id'])['item_id'].nunique().reset_index()\n",
    "stores = stores.rename(columns={'item_id':'unique_goods'})\n",
    "stores['first_visit_date'] = stores.store_id.apply(lambda x: \n",
    "                                                   raw_data[raw_data.store_id == x]\n",
    "                                                   .period.min())"
   ]
  },
  {
   "cell_type": "code",
   "execution_count": 9,
   "metadata": {
    "ExecuteTime": {
     "end_time": "2022-05-22T17:16:19.111670Z",
     "start_time": "2022-05-22T17:16:18.985669Z"
    }
   },
   "outputs": [
    {
     "ename": "NameError",
     "evalue": "name 'stores' is not defined",
     "output_type": "error",
     "traceback": [
      "\u001b[1;31m---------------------------------------------------------------------------\u001b[0m",
      "\u001b[1;31mNameError\u001b[0m                                 Traceback (most recent call last)",
      "\u001b[1;32m<ipython-input-9-310b3e95af28>\u001b[0m in \u001b[0;36m<module>\u001b[1;34m\u001b[0m\n\u001b[1;32m----> 1\u001b[1;33m \u001b[0mstores\u001b[0m\u001b[1;33m.\u001b[0m\u001b[0mto_csv\u001b[0m\u001b[1;33m(\u001b[0m\u001b[1;34m'../data/raw/stores.csv'\u001b[0m\u001b[1;33m,\u001b[0m \u001b[0mindex\u001b[0m\u001b[1;33m=\u001b[0m\u001b[1;32mFalse\u001b[0m\u001b[1;33m)\u001b[0m\u001b[1;33m\u001b[0m\u001b[1;33m\u001b[0m\u001b[0m\n\u001b[0m",
      "\u001b[1;31mNameError\u001b[0m: name 'stores' is not defined"
     ]
    }
   ],
   "source": [
    "stores.to_csv('../data/raw/stores.csv', index=False)"
   ]
  },
  {
   "cell_type": "markdown",
   "metadata": {},
   "source": [
    "## Get clients data"
   ]
  },
  {
   "cell_type": "code",
   "execution_count": 6,
   "metadata": {
    "ExecuteTime": {
     "end_time": "2022-05-22T17:10:30.640868Z",
     "start_time": "2022-05-22T17:10:30.627869Z"
    }
   },
   "outputs": [],
   "source": [
    "def get_client_data(purchases_clear):\n",
    "    clients = purchases_clear.groupby('user_id').agg({'item_id':'count',\n",
    "                                                      'period':'min', \n",
    "                                                      'license':'max'}).reset_index()\n",
    "    clients = clients.rename(columns={'user_id':'user_id', \n",
    "                                      'item_id':'num_purchases', \n",
    "                                      'period':'first_visit'})    \n",
    "    return clients"
   ]
  },
  {
   "cell_type": "code",
   "execution_count": 16,
   "metadata": {
    "ExecuteTime": {
     "end_time": "2022-05-22T17:13:35.160723Z",
     "start_time": "2022-05-22T17:13:32.953430Z"
    }
   },
   "outputs": [],
   "source": [
    "# delete strange user_id   \n",
    "purchases_clear = raw_data[raw_data.user_id.str.len()==13]\n",
    "# get clients data\n",
    "clients = get_client_data(purchases_clear)"
   ]
  },
  {
   "cell_type": "code",
   "execution_count": 17,
   "metadata": {
    "ExecuteTime": {
     "end_time": "2022-05-22T17:13:51.383395Z",
     "start_time": "2022-05-22T17:13:35.162717Z"
    }
   },
   "outputs": [],
   "source": [
    "purchases_clear.to_csv('../data/raw/purchases_2k.csv', index=False)\n",
    "clients.to_csv('../data/raw/clients.csv', index=False)"
   ]
  },
  {
   "cell_type": "markdown",
   "metadata": {},
   "source": [
    "## Get goods info"
   ]
  },
  {
   "cell_type": "code",
   "execution_count": 9,
   "metadata": {
    "ExecuteTime": {
     "end_time": "2022-05-22T17:10:59.846434Z",
     "start_time": "2022-05-22T17:10:51.049285Z"
    }
   },
   "outputs": [],
   "source": [
    "goods = purchases_clear.groupby('item_id').agg({'license':'max', \n",
    "                                        'type_by_nomenclature':'max', \n",
    "                                        'rating':'mean'})"
   ]
  },
  {
   "cell_type": "code",
   "execution_count": 10,
   "metadata": {
    "ExecuteTime": {
     "end_time": "2022-05-22T17:10:59.972434Z",
     "start_time": "2022-05-22T17:10:59.849430Z"
    }
   },
   "outputs": [],
   "source": [
    "goods.to_csv('../data/raw/goods.csv', index=False)"
   ]
  },
  {
   "cell_type": "markdown",
   "metadata": {},
   "source": [
    "## Purchases"
   ]
  },
  {
   "cell_type": "code",
   "execution_count": 2,
   "metadata": {
    "ExecuteTime": {
     "end_time": "2022-05-22T17:18:20.944437Z",
     "start_time": "2022-05-22T17:18:17.351162Z"
    }
   },
   "outputs": [],
   "source": [
    "purchases_clear = pd.read_csv('../data/raw/purchases_2k.csv', \n",
    "                              parse_dates=['period'])"
   ]
  },
  {
   "cell_type": "code",
   "execution_count": 3,
   "metadata": {
    "ExecuteTime": {
     "end_time": "2022-05-22T17:14:30.660448Z",
     "start_time": "2022-05-22T17:14:28.927720Z"
    }
   },
   "outputs": [],
   "source": [
    "purchases_clear.loc[:,'year'] = purchases_clear.period.dt.year\n",
    "purchases_clear.loc[:,'month'] = purchases_clear.period.dt.month\n",
    "purchases_clear.loc[:,'day'] = purchases_clear.period.dt.day"
   ]
  },
  {
   "cell_type": "code",
   "execution_count": 4,
   "metadata": {
    "ExecuteTime": {
     "end_time": "2022-05-22T17:14:30.676445Z",
     "start_time": "2022-05-22T17:14:30.663444Z"
    }
   },
   "outputs": [],
   "source": [
    "def set_season_by_month(month):\n",
    "    if month in [1, 2, 12]:\n",
    "        return 1 # winter\n",
    "    if month in [3, 4, 5]:\n",
    "        return 2 # spring\n",
    "    if month in [6, 7, 8]:\n",
    "        return 3 # summer\n",
    "    if month in [9, 10, 11]:\n",
    "        return 4 # autumn"
   ]
  },
  {
   "cell_type": "code",
   "execution_count": 5,
   "metadata": {
    "ExecuteTime": {
     "end_time": "2022-05-22T17:14:32.595520Z",
     "start_time": "2022-05-22T17:14:30.678447Z"
    }
   },
   "outputs": [],
   "source": [
    "purchases_clear['season'] = purchases_clear.month.apply(lambda month: set_season_by_month(month))"
   ]
  },
  {
   "cell_type": "code",
   "execution_count": 6,
   "metadata": {
    "ExecuteTime": {
     "end_time": "2022-05-22T17:14:32.675517Z",
     "start_time": "2022-05-22T17:14:32.597516Z"
    }
   },
   "outputs": [
    {
     "data": {
      "text/html": [
       "<div>\n",
       "<style scoped>\n",
       "    .dataframe tbody tr th:only-of-type {\n",
       "        vertical-align: middle;\n",
       "    }\n",
       "\n",
       "    .dataframe tbody tr th {\n",
       "        vertical-align: top;\n",
       "    }\n",
       "\n",
       "    .dataframe thead th {\n",
       "        text-align: right;\n",
       "    }\n",
       "</style>\n",
       "<table border=\"1\" class=\"dataframe\">\n",
       "  <thead>\n",
       "    <tr style=\"text-align: right;\">\n",
       "      <th></th>\n",
       "      <th>index</th>\n",
       "      <th>month</th>\n",
       "    </tr>\n",
       "  </thead>\n",
       "  <tbody>\n",
       "    <tr>\n",
       "      <th>0</th>\n",
       "      <td>8</td>\n",
       "      <td>275905</td>\n",
       "    </tr>\n",
       "    <tr>\n",
       "      <th>1</th>\n",
       "      <td>4</td>\n",
       "      <td>234282</td>\n",
       "    </tr>\n",
       "    <tr>\n",
       "      <th>2</th>\n",
       "      <td>3</td>\n",
       "      <td>234157</td>\n",
       "    </tr>\n",
       "    <tr>\n",
       "      <th>3</th>\n",
       "      <td>12</td>\n",
       "      <td>216411</td>\n",
       "    </tr>\n",
       "    <tr>\n",
       "      <th>4</th>\n",
       "      <td>9</td>\n",
       "      <td>214514</td>\n",
       "    </tr>\n",
       "    <tr>\n",
       "      <th>5</th>\n",
       "      <td>11</td>\n",
       "      <td>208051</td>\n",
       "    </tr>\n",
       "    <tr>\n",
       "      <th>6</th>\n",
       "      <td>7</td>\n",
       "      <td>202932</td>\n",
       "    </tr>\n",
       "    <tr>\n",
       "      <th>7</th>\n",
       "      <td>2</td>\n",
       "      <td>201582</td>\n",
       "    </tr>\n",
       "    <tr>\n",
       "      <th>8</th>\n",
       "      <td>10</td>\n",
       "      <td>197726</td>\n",
       "    </tr>\n",
       "    <tr>\n",
       "      <th>9</th>\n",
       "      <td>6</td>\n",
       "      <td>170913</td>\n",
       "    </tr>\n",
       "    <tr>\n",
       "      <th>10</th>\n",
       "      <td>5</td>\n",
       "      <td>167677</td>\n",
       "    </tr>\n",
       "    <tr>\n",
       "      <th>11</th>\n",
       "      <td>1</td>\n",
       "      <td>166102</td>\n",
       "    </tr>\n",
       "  </tbody>\n",
       "</table>\n",
       "</div>"
      ],
      "text/plain": [
       "    index   month\n",
       "0       8  275905\n",
       "1       4  234282\n",
       "2       3  234157\n",
       "3      12  216411\n",
       "4       9  214514\n",
       "5      11  208051\n",
       "6       7  202932\n",
       "7       2  201582\n",
       "8      10  197726\n",
       "9       6  170913\n",
       "10      5  167677\n",
       "11      1  166102"
      ]
     },
     "execution_count": 6,
     "metadata": {},
     "output_type": "execute_result"
    }
   ],
   "source": [
    "purchases_clear.month.value_counts().reset_index()"
   ]
  },
  {
   "cell_type": "code",
   "execution_count": 8,
   "metadata": {
    "ExecuteTime": {
     "end_time": "2022-05-22T17:15:12.904725Z",
     "start_time": "2022-05-22T17:14:54.329803Z"
    }
   },
   "outputs": [],
   "source": [
    "purchases_clear.to_csv('../data/raw/purchases_2k.csv', index=False)"
   ]
  },
  {
   "cell_type": "code",
   "execution_count": 5,
   "metadata": {
    "ExecuteTime": {
     "end_time": "2022-05-22T17:38:50.683068Z",
     "start_time": "2022-05-22T17:38:50.674067Z"
    }
   },
   "outputs": [],
   "source": [
    "class Transaction:\n",
    "    def __init__(self, transaction_id, transaction_datetime, **kwargs):\n",
    "        self.data = {\n",
    "            **{\"tid\": transaction_id, \"datetime\": transaction_datetime, \"products\": [],},\n",
    "            **kwargs,\n",
    "        }\n",
    "\n",
    "    def add_item(\n",
    "        self, product_id: str, season: int,\n",
    "    ) -> None:\n",
    "        p = {\n",
    "            \"product_id\": product_id,\n",
    "            \"season\": product_quantity,\n",
    "        }\n",
    "        self.data[\"products\"].append(p)\n",
    "\n",
    "    def as_dict(self,):\n",
    "        return self.data\n",
    "\n",
    "    def transaction_id(self,):\n",
    "        return self.data[\"tid\"]"
   ]
  },
  {
   "cell_type": "code",
   "execution_count": 3,
   "metadata": {
    "ExecuteTime": {
     "end_time": "2022-05-22T17:28:16.125453Z",
     "start_time": "2022-05-22T17:28:16.116452Z"
    }
   },
   "outputs": [],
   "source": [
    "class ClientHistory:\n",
    "    def __init__(self, client_id):\n",
    "        self.data = {\n",
    "            \"client_id\": client_id,\n",
    "            \"transaction_history\":[],\n",
    "        }\n",
    "    \n",
    "    def add_transaction(self, transaction):\n",
    "        self.data[\"transaction_history\"].append(transaction)\n",
    "        \n",
    "    def as_dict(self,):\n",
    "        return self.data\n",
    "    \n",
    "    def client_id(self,):\n",
    "        return self.data[\"client_id\"]\n",
    "        "
   ]
  },
  {
   "cell_type": "code",
   "execution_count": null,
   "metadata": {},
   "outputs": [],
   "source": [
    "class RowSplitter:\n",
    "    def __init__(self, output_path, n_shards=16):\n",
    "        self.n_shards = n_shards\n",
    "        os.makedirs(output_path, exist_ok=True)\n",
    "        self.outs = []\n",
    "        for i in range(self.n_shards):\n",
    "            self.outs.append(open(output_path + '/{:02d}.json'.format(i), \"w\",))\n",
    "            self._client = None\n",
    "            self._transaction = None\n",
    "\n",
    "    def finish(self,):\n",
    "        self.flush()\n",
    "        for outs in self.outs:\n",
    "            outs.close()\n",
    "\n",
    "    def flush(self,):\n",
    "        if self._client is not None:\n",
    "            self._client.add_transaction(self._transaction.as_dict())\n",
    "            # rows are sharded by cliend_id\n",
    "            shard_idx = md5_hash(self._client.client_id()) % self.n_shards\n",
    "            data = self._client.as_dict()\n",
    "            self.outs[shard_idx].write(json.dumps(data) + \"\\n\")\n",
    "\n",
    "            self._client = None\n",
    "            self._transaction = None\n",
    "            \n",
    "    def consume_row(\n",
    "        self, row,\n",
    "    ):\n",
    "        if self._client is not None and self._client.client_id() != row.client_id:\n",
    "            self.flush()\n",
    "\n",
    "        if self._client is None:\n",
    "            self._client = ClientHistory(client_id=row.client_id)\n",
    "\n",
    "        if self._transaction is not None and self._transaction.transaction_id() != row.transaction_id:\n",
    "            self._client.add_transaction(self._transaction.as_dict())\n",
    "            self._transaction = None\n",
    "\n",
    "        if self._transaction is None:\n",
    "            self._transaction = Transaction(\n",
    "                transaction_id=row.transaction_id,\n",
    "                transaction_datetime=row.transaction_datetime,\n",
    "                season=row.season,\n",
    "                store_id=row.store_id,\n",
    "            )\n",
    "\n",
    "        self._transaction.add_item(\n",
    "            product_id=row.product_id,\n",
    "            season=row.season,\n",
    "        )"
   ]
  }
 ],
 "metadata": {
  "kernelspec": {
   "display_name": "Python 3",
   "language": "python",
   "name": "python3"
  },
  "language_info": {
   "codemirror_mode": {
    "name": "ipython",
    "version": 3
   },
   "file_extension": ".py",
   "mimetype": "text/x-python",
   "name": "python",
   "nbconvert_exporter": "python",
   "pygments_lexer": "ipython3",
   "version": "3.7.4"
  }
 },
 "nbformat": 4,
 "nbformat_minor": 4
}
