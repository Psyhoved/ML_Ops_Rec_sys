{
 "cells": [
  {
   "cell_type": "code",
   "execution_count": 1,
   "metadata": {
    "ExecuteTime": {
     "end_time": "2022-05-22T13:23:52.788184Z",
     "start_time": "2022-05-22T13:23:52.300539Z"
    }
   },
   "outputs": [],
   "source": [
    "import pandas as pd\n",
    "import numpy as np"
   ]
  },
  {
   "cell_type": "code",
   "execution_count": 2,
   "metadata": {
    "ExecuteTime": {
     "end_time": "2022-05-22T13:23:55.662129Z",
     "start_time": "2022-05-22T13:23:52.964536Z"
    }
   },
   "outputs": [],
   "source": [
    "raw_data = pd.read_csv('../data/raw/market_sales.csv',\n",
    "                     header=0,\n",
    "                     names=['period', 'user_id', 'store_id', \n",
    "                            'item_id', 'license', 'type_by_nomenclature',\n",
    "                            'rating'],\n",
    "                     dtype={'user_id': str,\n",
    "                            'store_id': np.str,\n",
    "                            'item_id': np.str,\n",
    "                            'license': np.int8,\n",
    "                            'type_by_nomenclature': np.str,\n",
    "                            'rating': np.int32})"
   ]
  },
  {
   "cell_type": "code",
   "execution_count": 3,
   "metadata": {
    "ExecuteTime": {
     "end_time": "2022-05-22T13:23:55.710124Z",
     "start_time": "2022-05-22T13:23:55.664126Z"
    },
    "scrolled": true
   },
   "outputs": [
    {
     "data": {
      "text/html": [
       "<div>\n",
       "<style scoped>\n",
       "    .dataframe tbody tr th:only-of-type {\n",
       "        vertical-align: middle;\n",
       "    }\n",
       "\n",
       "    .dataframe tbody tr th {\n",
       "        vertical-align: top;\n",
       "    }\n",
       "\n",
       "    .dataframe thead th {\n",
       "        text-align: right;\n",
       "    }\n",
       "</style>\n",
       "<table border=\"1\" class=\"dataframe\">\n",
       "  <thead>\n",
       "    <tr style=\"text-align: right;\">\n",
       "      <th></th>\n",
       "      <th>period</th>\n",
       "      <th>user_id</th>\n",
       "      <th>store_id</th>\n",
       "      <th>item_id</th>\n",
       "      <th>license</th>\n",
       "      <th>type_by_nomenclature</th>\n",
       "      <th>rating</th>\n",
       "    </tr>\n",
       "  </thead>\n",
       "  <tbody>\n",
       "    <tr>\n",
       "      <th>0</th>\n",
       "      <td>2019-02-01 19:58:36</td>\n",
       "      <td>3000004608438</td>\n",
       "      <td>IZ-000034</td>\n",
       "      <td>00047364</td>\n",
       "      <td>0</td>\n",
       "      <td>C</td>\n",
       "      <td>3</td>\n",
       "    </tr>\n",
       "    <tr>\n",
       "      <th>1</th>\n",
       "      <td>2019-02-01 19:58:36</td>\n",
       "      <td>3000004608438</td>\n",
       "      <td>IZ-000034</td>\n",
       "      <td>00152527</td>\n",
       "      <td>0</td>\n",
       "      <td>C</td>\n",
       "      <td>3</td>\n",
       "    </tr>\n",
       "    <tr>\n",
       "      <th>2</th>\n",
       "      <td>2019-02-01 19:58:36</td>\n",
       "      <td>3000004608438</td>\n",
       "      <td>IZ-000034</td>\n",
       "      <td>00152528</td>\n",
       "      <td>0</td>\n",
       "      <td>C</td>\n",
       "      <td>3</td>\n",
       "    </tr>\n",
       "    <tr>\n",
       "      <th>3</th>\n",
       "      <td>2019-02-01 19:58:36</td>\n",
       "      <td>3000004572289</td>\n",
       "      <td>IZ-000034</td>\n",
       "      <td>00041576</td>\n",
       "      <td>1</td>\n",
       "      <td>A</td>\n",
       "      <td>4</td>\n",
       "    </tr>\n",
       "    <tr>\n",
       "      <th>4</th>\n",
       "      <td>2019-02-01 19:58:36</td>\n",
       "      <td>3000003024611</td>\n",
       "      <td>IZ-000034</td>\n",
       "      <td>00041577</td>\n",
       "      <td>1</td>\n",
       "      <td>B</td>\n",
       "      <td>4</td>\n",
       "    </tr>\n",
       "  </tbody>\n",
       "</table>\n",
       "</div>"
      ],
      "text/plain": [
       "                period        user_id   store_id      item_id  license  \\\n",
       "0  2019-02-01 19:58:36  3000004608438  IZ-000034  00047364           0   \n",
       "1  2019-02-01 19:58:36  3000004608438  IZ-000034  00152527           0   \n",
       "2  2019-02-01 19:58:36  3000004608438  IZ-000034  00152528           0   \n",
       "3  2019-02-01 19:58:36  3000004572289  IZ-000034  00041576           1   \n",
       "4  2019-02-01 19:58:36  3000003024611  IZ-000034  00041577           1   \n",
       "\n",
       "  type_by_nomenclature  rating  \n",
       "0                    C       3  \n",
       "1                    C       3  \n",
       "2                    C       3  \n",
       "3                    A       4  \n",
       "4                    B       4  "
      ]
     },
     "execution_count": 3,
     "metadata": {},
     "output_type": "execute_result"
    }
   ],
   "source": [
    "raw_data.head()"
   ]
  },
  {
   "cell_type": "code",
   "execution_count": 4,
   "metadata": {
    "ExecuteTime": {
     "end_time": "2022-05-22T13:23:55.726124Z",
     "start_time": "2022-05-22T13:23:55.713124Z"
    }
   },
   "outputs": [],
   "source": [
    "cols = raw_data.columns"
   ]
  },
  {
   "cell_type": "code",
   "execution_count": 5,
   "metadata": {
    "ExecuteTime": {
     "end_time": "2022-05-22T13:23:59.161020Z",
     "start_time": "2022-05-22T13:23:55.729126Z"
    }
   },
   "outputs": [],
   "source": [
    "# deleting spases in string columns\n",
    "raw_data['user_id'] = raw_data['user_id'].str.strip()\n",
    "raw_data['store_id'] = raw_data['store_id'].str.strip()\n",
    "raw_data['item_id'] = raw_data['item_id'].str.strip()"
   ]
  },
  {
   "cell_type": "code",
   "execution_count": 6,
   "metadata": {
    "ExecuteTime": {
     "end_time": "2022-05-22T13:23:59.493281Z",
     "start_time": "2022-05-22T13:23:59.163014Z"
    }
   },
   "outputs": [
    {
     "data": {
      "text/plain": [
       "226663"
      ]
     },
     "execution_count": 6,
     "metadata": {},
     "output_type": "execute_result"
    }
   ],
   "source": [
    "raw_data['user_id'].nunique()"
   ]
  },
  {
   "cell_type": "code",
   "execution_count": 7,
   "metadata": {
    "ExecuteTime": {
     "end_time": "2022-05-22T13:23:59.710595Z",
     "start_time": "2022-05-22T13:23:59.495283Z"
    }
   },
   "outputs": [
    {
     "data": {
      "text/plain": [
       "63"
      ]
     },
     "execution_count": 7,
     "metadata": {},
     "output_type": "execute_result"
    }
   ],
   "source": [
    "raw_data['store_id'].nunique()"
   ]
  },
  {
   "cell_type": "code",
   "execution_count": 8,
   "metadata": {
    "ExecuteTime": {
     "end_time": "2022-05-22T13:23:59.995590Z",
     "start_time": "2022-05-22T13:23:59.712590Z"
    }
   },
   "outputs": [
    {
     "data": {
      "text/plain": [
       "45090"
      ]
     },
     "execution_count": 8,
     "metadata": {},
     "output_type": "execute_result"
    }
   ],
   "source": [
    "raw_data['item_id'].nunique()"
   ]
  },
  {
   "cell_type": "code",
   "execution_count": 9,
   "metadata": {
    "ExecuteTime": {
     "end_time": "2022-05-22T13:24:00.266711Z",
     "start_time": "2022-05-22T13:23:59.998589Z"
    },
    "scrolled": true
   },
   "outputs": [
    {
     "data": {
      "text/plain": [
       "146672"
      ]
     },
     "execution_count": 9,
     "metadata": {},
     "output_type": "execute_result"
    }
   ],
   "source": [
    "raw_data[raw_data.license == 1]['user_id'].nunique()"
   ]
  },
  {
   "cell_type": "code",
   "execution_count": 10,
   "metadata": {
    "ExecuteTime": {
     "end_time": "2022-05-22T13:24:01.814276Z",
     "start_time": "2022-05-22T13:24:00.269717Z"
    }
   },
   "outputs": [],
   "source": [
    "stores = raw_data.groupby(['store_id'])['item_id'].nunique().reset_index()\n",
    "stores = stores.rename(columns={'item_id':'unique_goods'})\n",
    "stores['first_visit_date'] = stores.store_id.apply(lambda x: \n",
    "                                                   raw_data[raw_data.store_id == x]\n",
    "                                                   .period.min())"
   ]
  },
  {
   "cell_type": "code",
   "execution_count": 12,
   "metadata": {
    "ExecuteTime": {
     "end_time": "2022-05-22T13:24:15.997244Z",
     "start_time": "2022-05-22T13:24:15.968244Z"
    }
   },
   "outputs": [
    {
     "data": {
      "text/html": [
       "<div>\n",
       "<style scoped>\n",
       "    .dataframe tbody tr th:only-of-type {\n",
       "        vertical-align: middle;\n",
       "    }\n",
       "\n",
       "    .dataframe tbody tr th {\n",
       "        vertical-align: top;\n",
       "    }\n",
       "\n",
       "    .dataframe thead th {\n",
       "        text-align: right;\n",
       "    }\n",
       "</style>\n",
       "<table border=\"1\" class=\"dataframe\">\n",
       "  <thead>\n",
       "    <tr style=\"text-align: right;\">\n",
       "      <th></th>\n",
       "      <th>store_id</th>\n",
       "      <th>unique_goods</th>\n",
       "      <th>first_visit_date</th>\n",
       "    </tr>\n",
       "  </thead>\n",
       "  <tbody>\n",
       "    <tr>\n",
       "      <th>58</th>\n",
       "      <td>IZ-000073</td>\n",
       "      <td>100</td>\n",
       "      <td>2022-04-27 20:01:23</td>\n",
       "    </tr>\n",
       "    <tr>\n",
       "      <th>61</th>\n",
       "      <td>IZ-000082</td>\n",
       "      <td>314</td>\n",
       "      <td>2022-01-04 17:04:10</td>\n",
       "    </tr>\n",
       "    <tr>\n",
       "      <th>59</th>\n",
       "      <td>IZ-000076</td>\n",
       "      <td>324</td>\n",
       "      <td>2022-01-04 19:12:13</td>\n",
       "    </tr>\n",
       "    <tr>\n",
       "      <th>62</th>\n",
       "      <td>IZ-000083</td>\n",
       "      <td>683</td>\n",
       "      <td>2022-04-13 19:01:05</td>\n",
       "    </tr>\n",
       "    <tr>\n",
       "      <th>56</th>\n",
       "      <td>IZ-000070</td>\n",
       "      <td>961</td>\n",
       "      <td>2022-01-03 13:00:21</td>\n",
       "    </tr>\n",
       "    <tr>\n",
       "      <th>...</th>\n",
       "      <td>...</td>\n",
       "      <td>...</td>\n",
       "      <td>...</td>\n",
       "    </tr>\n",
       "    <tr>\n",
       "      <th>4</th>\n",
       "      <td>IZ-000005</td>\n",
       "      <td>12386</td>\n",
       "      <td>2019-01-02 18:53:34</td>\n",
       "    </tr>\n",
       "    <tr>\n",
       "      <th>42</th>\n",
       "      <td>IZ-000053</td>\n",
       "      <td>12590</td>\n",
       "      <td>2019-01-02 20:00:57</td>\n",
       "    </tr>\n",
       "    <tr>\n",
       "      <th>3</th>\n",
       "      <td>IZ-000004</td>\n",
       "      <td>12608</td>\n",
       "      <td>2019-01-02 19:05:12</td>\n",
       "    </tr>\n",
       "    <tr>\n",
       "      <th>2</th>\n",
       "      <td>IZ-000003</td>\n",
       "      <td>13079</td>\n",
       "      <td>2019-01-02 19:00:21</td>\n",
       "    </tr>\n",
       "    <tr>\n",
       "      <th>33</th>\n",
       "      <td>IZ-000044</td>\n",
       "      <td>14354</td>\n",
       "      <td>2019-01-02 19:54:20</td>\n",
       "    </tr>\n",
       "  </tbody>\n",
       "</table>\n",
       "<p>63 rows × 3 columns</p>\n",
       "</div>"
      ],
      "text/plain": [
       "     store_id  unique_goods     first_visit_date\n",
       "58  IZ-000073           100  2022-04-27 20:01:23\n",
       "61  IZ-000082           314  2022-01-04 17:04:10\n",
       "59  IZ-000076           324  2022-01-04 19:12:13\n",
       "62  IZ-000083           683  2022-04-13 19:01:05\n",
       "56  IZ-000070           961  2022-01-03 13:00:21\n",
       "..        ...           ...                  ...\n",
       "4   IZ-000005         12386  2019-01-02 18:53:34\n",
       "42  IZ-000053         12590  2019-01-02 20:00:57\n",
       "3   IZ-000004         12608  2019-01-02 19:05:12\n",
       "2   IZ-000003         13079  2019-01-02 19:00:21\n",
       "33  IZ-000044         14354  2019-01-02 19:54:20\n",
       "\n",
       "[63 rows x 3 columns]"
      ]
     },
     "execution_count": 12,
     "metadata": {},
     "output_type": "execute_result"
    }
   ],
   "source": [
    "stores.sort_values('unique_goods')"
   ]
  },
  {
   "cell_type": "code",
   "execution_count": 13,
   "metadata": {
    "ExecuteTime": {
     "end_time": "2022-05-22T13:24:17.314040Z",
     "start_time": "2022-05-22T13:24:16.000244Z"
    }
   },
   "outputs": [
    {
     "data": {
      "text/plain": [
       "13    2490252\n",
       "15       1994\n",
       "18       1014\n",
       "11        659\n",
       "14        511\n",
       "17        360\n",
       "8         329\n",
       "21        169\n",
       "12        167\n",
       "16        109\n",
       "1          73\n",
       "24         64\n",
       "22         11\n",
       "74          7\n",
       "Name: user_id, dtype: int64"
      ]
     },
     "execution_count": 13,
     "metadata": {},
     "output_type": "execute_result"
    }
   ],
   "source": [
    "raw_data.user_id.str.len().value_counts()"
   ]
  },
  {
   "cell_type": "code",
   "execution_count": 14,
   "metadata": {
    "ExecuteTime": {
     "end_time": "2022-05-22T13:24:18.921207Z",
     "start_time": "2022-05-22T13:24:17.316046Z"
    }
   },
   "outputs": [
    {
     "data": {
      "text/plain": [
       "array(['3000004608438', '3000004572289', '3000003024611', ...,\n",
       "       '3000004633546', '3000006376458', '3000003957797'], dtype=object)"
      ]
     },
     "execution_count": 14,
     "metadata": {},
     "output_type": "execute_result"
    }
   ],
   "source": [
    "raw_data[raw_data.user_id.str.len()==13].user_id.unique()"
   ]
  },
  {
   "cell_type": "code",
   "execution_count": 15,
   "metadata": {
    "ExecuteTime": {
     "end_time": "2022-05-22T13:24:20.195863Z",
     "start_time": "2022-05-22T13:24:18.923199Z"
    }
   },
   "outputs": [
    {
     "data": {
      "text/html": [
       "<div>\n",
       "<style scoped>\n",
       "    .dataframe tbody tr th:only-of-type {\n",
       "        vertical-align: middle;\n",
       "    }\n",
       "\n",
       "    .dataframe tbody tr th {\n",
       "        vertical-align: top;\n",
       "    }\n",
       "\n",
       "    .dataframe thead th {\n",
       "        text-align: right;\n",
       "    }\n",
       "</style>\n",
       "<table border=\"1\" class=\"dataframe\">\n",
       "  <thead>\n",
       "    <tr style=\"text-align: right;\">\n",
       "      <th></th>\n",
       "      <th>period</th>\n",
       "      <th>user_id</th>\n",
       "      <th>store_id</th>\n",
       "      <th>item_id</th>\n",
       "      <th>license</th>\n",
       "      <th>type_by_nomenclature</th>\n",
       "      <th>rating</th>\n",
       "    </tr>\n",
       "  </thead>\n",
       "  <tbody>\n",
       "    <tr>\n",
       "      <th>0</th>\n",
       "      <td>2019-02-01 19:58:36</td>\n",
       "      <td>3000004608438</td>\n",
       "      <td>IZ-000034</td>\n",
       "      <td>00047364</td>\n",
       "      <td>0</td>\n",
       "      <td>C</td>\n",
       "      <td>3</td>\n",
       "    </tr>\n",
       "    <tr>\n",
       "      <th>1</th>\n",
       "      <td>2019-02-01 19:58:36</td>\n",
       "      <td>3000004608438</td>\n",
       "      <td>IZ-000034</td>\n",
       "      <td>00152527</td>\n",
       "      <td>0</td>\n",
       "      <td>C</td>\n",
       "      <td>3</td>\n",
       "    </tr>\n",
       "    <tr>\n",
       "      <th>2</th>\n",
       "      <td>2019-02-01 19:58:36</td>\n",
       "      <td>3000004608438</td>\n",
       "      <td>IZ-000034</td>\n",
       "      <td>00152528</td>\n",
       "      <td>0</td>\n",
       "      <td>C</td>\n",
       "      <td>3</td>\n",
       "    </tr>\n",
       "    <tr>\n",
       "      <th>3</th>\n",
       "      <td>2019-02-01 19:58:36</td>\n",
       "      <td>3000004572289</td>\n",
       "      <td>IZ-000034</td>\n",
       "      <td>00041576</td>\n",
       "      <td>1</td>\n",
       "      <td>A</td>\n",
       "      <td>4</td>\n",
       "    </tr>\n",
       "    <tr>\n",
       "      <th>4</th>\n",
       "      <td>2019-02-01 19:58:36</td>\n",
       "      <td>3000003024611</td>\n",
       "      <td>IZ-000034</td>\n",
       "      <td>00041577</td>\n",
       "      <td>1</td>\n",
       "      <td>B</td>\n",
       "      <td>4</td>\n",
       "    </tr>\n",
       "    <tr>\n",
       "      <th>...</th>\n",
       "      <td>...</td>\n",
       "      <td>...</td>\n",
       "      <td>...</td>\n",
       "      <td>...</td>\n",
       "      <td>...</td>\n",
       "      <td>...</td>\n",
       "      <td>...</td>\n",
       "    </tr>\n",
       "    <tr>\n",
       "      <th>2495714</th>\n",
       "      <td>2022-04-30 19:57:26</td>\n",
       "      <td>3000004472121</td>\n",
       "      <td>IZ-000035</td>\n",
       "      <td>00023780</td>\n",
       "      <td>0</td>\n",
       "      <td>B</td>\n",
       "      <td>3</td>\n",
       "    </tr>\n",
       "    <tr>\n",
       "      <th>2495715</th>\n",
       "      <td>2022-04-30 19:57:26</td>\n",
       "      <td>3000004472121</td>\n",
       "      <td>IZ-000035</td>\n",
       "      <td>00001039</td>\n",
       "      <td>0</td>\n",
       "      <td>B</td>\n",
       "      <td>3</td>\n",
       "    </tr>\n",
       "    <tr>\n",
       "      <th>2495716</th>\n",
       "      <td>2022-04-30 19:57:26</td>\n",
       "      <td>3000004472121</td>\n",
       "      <td>IZ-000035</td>\n",
       "      <td>00001040</td>\n",
       "      <td>0</td>\n",
       "      <td>B</td>\n",
       "      <td>3</td>\n",
       "    </tr>\n",
       "    <tr>\n",
       "      <th>2495717</th>\n",
       "      <td>2022-04-30 19:57:26</td>\n",
       "      <td>3000004472121</td>\n",
       "      <td>IZ-000035</td>\n",
       "      <td>00175960</td>\n",
       "      <td>0</td>\n",
       "      <td>B</td>\n",
       "      <td>4</td>\n",
       "    </tr>\n",
       "    <tr>\n",
       "      <th>2495718</th>\n",
       "      <td>2022-04-30 19:57:26</td>\n",
       "      <td>3000004472121</td>\n",
       "      <td>IZ-000035</td>\n",
       "      <td>00001075</td>\n",
       "      <td>0</td>\n",
       "      <td>A</td>\n",
       "      <td>3</td>\n",
       "    </tr>\n",
       "  </tbody>\n",
       "</table>\n",
       "<p>2490252 rows × 7 columns</p>\n",
       "</div>"
      ],
      "text/plain": [
       "                      period        user_id   store_id   item_id  license  \\\n",
       "0        2019-02-01 19:58:36  3000004608438  IZ-000034  00047364        0   \n",
       "1        2019-02-01 19:58:36  3000004608438  IZ-000034  00152527        0   \n",
       "2        2019-02-01 19:58:36  3000004608438  IZ-000034  00152528        0   \n",
       "3        2019-02-01 19:58:36  3000004572289  IZ-000034  00041576        1   \n",
       "4        2019-02-01 19:58:36  3000003024611  IZ-000034  00041577        1   \n",
       "...                      ...            ...        ...       ...      ...   \n",
       "2495714  2022-04-30 19:57:26  3000004472121  IZ-000035  00023780        0   \n",
       "2495715  2022-04-30 19:57:26  3000004472121  IZ-000035  00001039        0   \n",
       "2495716  2022-04-30 19:57:26  3000004472121  IZ-000035  00001040        0   \n",
       "2495717  2022-04-30 19:57:26  3000004472121  IZ-000035  00175960        0   \n",
       "2495718  2022-04-30 19:57:26  3000004472121  IZ-000035  00001075        0   \n",
       "\n",
       "        type_by_nomenclature  rating  \n",
       "0                          C       3  \n",
       "1                          C       3  \n",
       "2                          C       3  \n",
       "3                          A       4  \n",
       "4                          B       4  \n",
       "...                      ...     ...  \n",
       "2495714                    B       3  \n",
       "2495715                    B       3  \n",
       "2495716                    B       3  \n",
       "2495717                    B       4  \n",
       "2495718                    A       3  \n",
       "\n",
       "[2490252 rows x 7 columns]"
      ]
     },
     "execution_count": 15,
     "metadata": {},
     "output_type": "execute_result"
    }
   ],
   "source": [
    "raw_data[raw_data.user_id.str.len()==13]"
   ]
  },
  {
   "cell_type": "markdown",
   "metadata": {},
   "source": [
    "## Get clients data"
   ]
  },
  {
   "cell_type": "code",
   "execution_count": 16,
   "metadata": {
    "ExecuteTime": {
     "end_time": "2022-05-22T13:24:20.211866Z",
     "start_time": "2022-05-22T13:24:20.198861Z"
    }
   },
   "outputs": [],
   "source": [
    "def get_client_data(purchases_clear):\n",
    "    clients = purchases_clear.groupby('user_id').agg({'item_id':'count',\n",
    "                                                      'period':'min', \n",
    "                                                      'license':'max'}).reset_index()\n",
    "    clients = clients.rename(columns={'user_id':'user_id', \n",
    "                                      'item_id':'num_purchases', \n",
    "                                      'period':'first_visit'})    \n",
    "    return clients"
   ]
  },
  {
   "cell_type": "code",
   "execution_count": 17,
   "metadata": {
    "ExecuteTime": {
     "end_time": "2022-05-22T13:25:01.619203Z",
     "start_time": "2022-05-22T13:24:20.213861Z"
    }
   },
   "outputs": [],
   "source": [
    "# delete strange user_id   \n",
    "purchases_clear = raw_data[raw_data.user_id.str.len()==13]\n",
    "# get clients data\n",
    "clients = get_client_data(purchases_clear)"
   ]
  },
  {
   "cell_type": "code",
   "execution_count": 18,
   "metadata": {
    "ExecuteTime": {
     "end_time": "2022-05-22T13:25:01.951202Z",
     "start_time": "2022-05-22T13:25:01.622199Z"
    },
    "scrolled": true
   },
   "outputs": [
    {
     "data": {
      "text/plain": [
       "226557"
      ]
     },
     "execution_count": 18,
     "metadata": {},
     "output_type": "execute_result"
    }
   ],
   "source": [
    "purchases_clear.user_id.nunique()"
   ]
  },
  {
   "cell_type": "code",
   "execution_count": 19,
   "metadata": {
    "ExecuteTime": {
     "end_time": "2022-05-22T13:25:02.158202Z",
     "start_time": "2022-05-22T13:25:01.953197Z"
    }
   },
   "outputs": [
    {
     "data": {
      "text/plain": [
       "63"
      ]
     },
     "execution_count": 19,
     "metadata": {},
     "output_type": "execute_result"
    }
   ],
   "source": [
    "purchases_clear.store_id.nunique()"
   ]
  },
  {
   "cell_type": "code",
   "execution_count": 20,
   "metadata": {
    "ExecuteTime": {
     "end_time": "2022-05-22T13:25:02.457201Z",
     "start_time": "2022-05-22T13:25:02.160195Z"
    }
   },
   "outputs": [
    {
     "data": {
      "text/plain": [
       "45072"
      ]
     },
     "execution_count": 20,
     "metadata": {},
     "output_type": "execute_result"
    }
   ],
   "source": [
    "purchases_clear.item_id.nunique()"
   ]
  },
  {
   "cell_type": "code",
   "execution_count": 21,
   "metadata": {
    "ExecuteTime": {
     "end_time": "2022-05-22T13:25:02.487195Z",
     "start_time": "2022-05-22T13:25:02.459196Z"
    },
    "scrolled": false
   },
   "outputs": [
    {
     "data": {
      "text/plain": [
       "(34, 4)"
      ]
     },
     "execution_count": 21,
     "metadata": {},
     "output_type": "execute_result"
    }
   ],
   "source": [
    "clients[clients.num_purchases > 1000].shape"
   ]
  },
  {
   "cell_type": "code",
   "execution_count": 22,
   "metadata": {
    "ExecuteTime": {
     "end_time": "2022-05-22T13:25:02.770567Z",
     "start_time": "2022-05-22T13:25:02.489196Z"
    },
    "scrolled": true
   },
   "outputs": [
    {
     "data": {
      "text/html": [
       "<div>\n",
       "<style scoped>\n",
       "    .dataframe tbody tr th:only-of-type {\n",
       "        vertical-align: middle;\n",
       "    }\n",
       "\n",
       "    .dataframe tbody tr th {\n",
       "        vertical-align: top;\n",
       "    }\n",
       "\n",
       "    .dataframe thead th {\n",
       "        text-align: right;\n",
       "    }\n",
       "</style>\n",
       "<table border=\"1\" class=\"dataframe\">\n",
       "  <thead>\n",
       "    <tr style=\"text-align: right;\">\n",
       "      <th></th>\n",
       "      <th>period</th>\n",
       "      <th>user_id</th>\n",
       "      <th>store_id</th>\n",
       "      <th>license</th>\n",
       "      <th>type_by_nomenclature</th>\n",
       "      <th>rating</th>\n",
       "    </tr>\n",
       "    <tr>\n",
       "      <th>item_id</th>\n",
       "      <th></th>\n",
       "      <th></th>\n",
       "      <th></th>\n",
       "      <th></th>\n",
       "      <th></th>\n",
       "      <th></th>\n",
       "    </tr>\n",
       "  </thead>\n",
       "  <tbody>\n",
       "    <tr>\n",
       "      <th>00000006</th>\n",
       "      <td>4</td>\n",
       "      <td>4</td>\n",
       "      <td>4</td>\n",
       "      <td>4</td>\n",
       "      <td>4</td>\n",
       "      <td>4</td>\n",
       "    </tr>\n",
       "    <tr>\n",
       "      <th>00000011</th>\n",
       "      <td>30</td>\n",
       "      <td>30</td>\n",
       "      <td>30</td>\n",
       "      <td>30</td>\n",
       "      <td>30</td>\n",
       "      <td>30</td>\n",
       "    </tr>\n",
       "    <tr>\n",
       "      <th>00000051</th>\n",
       "      <td>1</td>\n",
       "      <td>1</td>\n",
       "      <td>1</td>\n",
       "      <td>1</td>\n",
       "      <td>1</td>\n",
       "      <td>1</td>\n",
       "    </tr>\n",
       "    <tr>\n",
       "      <th>00000057</th>\n",
       "      <td>2</td>\n",
       "      <td>2</td>\n",
       "      <td>2</td>\n",
       "      <td>2</td>\n",
       "      <td>2</td>\n",
       "      <td>2</td>\n",
       "    </tr>\n",
       "    <tr>\n",
       "      <th>00000059</th>\n",
       "      <td>2</td>\n",
       "      <td>2</td>\n",
       "      <td>2</td>\n",
       "      <td>2</td>\n",
       "      <td>2</td>\n",
       "      <td>2</td>\n",
       "    </tr>\n",
       "    <tr>\n",
       "      <th>...</th>\n",
       "      <td>...</td>\n",
       "      <td>...</td>\n",
       "      <td>...</td>\n",
       "      <td>...</td>\n",
       "      <td>...</td>\n",
       "      <td>...</td>\n",
       "    </tr>\n",
       "    <tr>\n",
       "      <th>00225365</th>\n",
       "      <td>1</td>\n",
       "      <td>1</td>\n",
       "      <td>1</td>\n",
       "      <td>1</td>\n",
       "      <td>1</td>\n",
       "      <td>1</td>\n",
       "    </tr>\n",
       "    <tr>\n",
       "      <th>00225513</th>\n",
       "      <td>3</td>\n",
       "      <td>3</td>\n",
       "      <td>3</td>\n",
       "      <td>3</td>\n",
       "      <td>3</td>\n",
       "      <td>3</td>\n",
       "    </tr>\n",
       "    <tr>\n",
       "      <th>00225515</th>\n",
       "      <td>1</td>\n",
       "      <td>1</td>\n",
       "      <td>1</td>\n",
       "      <td>1</td>\n",
       "      <td>1</td>\n",
       "      <td>1</td>\n",
       "    </tr>\n",
       "    <tr>\n",
       "      <th>00225516</th>\n",
       "      <td>2</td>\n",
       "      <td>2</td>\n",
       "      <td>2</td>\n",
       "      <td>2</td>\n",
       "      <td>2</td>\n",
       "      <td>2</td>\n",
       "    </tr>\n",
       "    <tr>\n",
       "      <th>00227117</th>\n",
       "      <td>1</td>\n",
       "      <td>1</td>\n",
       "      <td>1</td>\n",
       "      <td>1</td>\n",
       "      <td>1</td>\n",
       "      <td>1</td>\n",
       "    </tr>\n",
       "  </tbody>\n",
       "</table>\n",
       "<p>698 rows × 6 columns</p>\n",
       "</div>"
      ],
      "text/plain": [
       "          period  user_id  store_id  license  type_by_nomenclature  rating\n",
       "item_id                                                                   \n",
       "00000006       4        4         4        4                     4       4\n",
       "00000011      30       30        30       30                    30      30\n",
       "00000051       1        1         1        1                     1       1\n",
       "00000057       2        2         2        2                     2       2\n",
       "00000059       2        2         2        2                     2       2\n",
       "...          ...      ...       ...      ...                   ...     ...\n",
       "00225365       1        1         1        1                     1       1\n",
       "00225513       3        3         3        3                     3       3\n",
       "00225515       1        1         1        1                     1       1\n",
       "00225516       2        2         2        2                     2       2\n",
       "00227117       1        1         1        1                     1       1\n",
       "\n",
       "[698 rows x 6 columns]"
      ]
     },
     "execution_count": 22,
     "metadata": {},
     "output_type": "execute_result"
    }
   ],
   "source": [
    "purchases_clear[purchases_clear.user_id == '3000000458563'].groupby(['item_id']).count()"
   ]
  },
  {
   "cell_type": "markdown",
   "metadata": {},
   "source": [
    "## Get goods info"
   ]
  },
  {
   "cell_type": "code",
   "execution_count": 36,
   "metadata": {
    "ExecuteTime": {
     "end_time": "2022-05-22T13:36:40.527965Z",
     "start_time": "2022-05-22T13:36:31.950991Z"
    }
   },
   "outputs": [],
   "source": [
    "goods = purchases_clear.groupby('item_id').agg({'license':'max', \n",
    "                                        'type_by_nomenclature':'max', \n",
    "                                        'rating':'mean'})"
   ]
  },
  {
   "cell_type": "code",
   "execution_count": 1,
   "metadata": {
    "ExecuteTime": {
     "end_time": "2022-05-22T15:39:46.009029Z",
     "start_time": "2022-05-22T15:39:45.911028Z"
    }
   },
   "outputs": [
    {
     "ename": "NameError",
     "evalue": "name 'purchases_clear' is not defined",
     "output_type": "error",
     "traceback": [
      "\u001b[1;31m---------------------------------------------------------------------------\u001b[0m",
      "\u001b[1;31mNameError\u001b[0m                                 Traceback (most recent call last)",
      "\u001b[1;32m<ipython-input-1-4e717b0e9068>\u001b[0m in \u001b[0;36m<module>\u001b[1;34m\u001b[0m\n\u001b[1;32m----> 1\u001b[1;33m \u001b[0mpurchases_clear\u001b[0m\u001b[1;33m[\u001b[0m\u001b[1;34m'year'\u001b[0m\u001b[1;33m]\u001b[0m \u001b[1;33m=\u001b[0m \u001b[0mpurchases_clear\u001b[0m\u001b[1;33m.\u001b[0m\u001b[0mperiod\u001b[0m\u001b[1;33m.\u001b[0m\u001b[0mdt\u001b[0m\u001b[1;33m.\u001b[0m\u001b[0myear\u001b[0m\u001b[1;33m(\u001b[0m\u001b[1;33m)\u001b[0m\u001b[1;33m\u001b[0m\u001b[1;33m\u001b[0m\u001b[0m\n\u001b[0m",
      "\u001b[1;31mNameError\u001b[0m: name 'purchases_clear' is not defined"
     ]
    }
   ],
   "source": [
    "purchases_clear['year'] = purchases_clear.period.dt.year()"
   ]
  },
  {
   "cell_type": "code",
   "execution_count": null,
   "metadata": {},
   "outputs": [],
   "source": []
  }
 ],
 "metadata": {
  "kernelspec": {
   "display_name": "Python 3",
   "language": "python",
   "name": "python3"
  },
  "language_info": {
   "codemirror_mode": {
    "name": "ipython",
    "version": 3
   },
   "file_extension": ".py",
   "mimetype": "text/x-python",
   "name": "python",
   "nbconvert_exporter": "python",
   "pygments_lexer": "ipython3",
   "version": "3.7.4"
  }
 },
 "nbformat": 4,
 "nbformat_minor": 4
}
